{
  "nbformat": 4,
  "nbformat_minor": 0,
  "metadata": {
    "colab": {
      "provenance": [],
      "authorship_tag": "ABX9TyM5WimpXwPwJ3l9+DYIWlgw",
      "include_colab_link": true
    },
    "kernelspec": {
      "name": "python3",
      "display_name": "Python 3"
    },
    "language_info": {
      "name": "python"
    }
  },
  "cells": [
    {
      "cell_type": "markdown",
      "metadata": {
        "id": "view-in-github",
        "colab_type": "text"
      },
      "source": [
        "<a href=\"https://colab.research.google.com/github/Shravani11082005/new/blob/master/DST.ipynb\" target=\"_parent\"><img src=\"https://colab.research.google.com/assets/colab-badge.svg\" alt=\"Open In Colab\"/></a>"
      ]
    },
    {
      "cell_type": "code",
      "execution_count": null,
      "metadata": {
        "colab": {
          "base_uri": "https://localhost:8080/"
        },
        "id": "axeVXjY1dJ8v",
        "outputId": "b1fdafeb-ea53-4873-ba22-177f5b6b3c3a"
      },
      "outputs": [
        {
          "output_type": "stream",
          "name": "stdout",
          "text": [
            "hello world\n"
          ]
        }
      ],
      "source": [
        "print(\"hello world\")"
      ]
    },
    {
      "cell_type": "code",
      "source": [
        "def dice_probability():\n",
        "    total = 6\n",
        "    even = {2,4,6}\n",
        "    greater_than_4 = {5,6}\n",
        "    intersection = even & greater_than_4\n",
        "    p_even = len(even)/total\n",
        "    p_gt4 = len(greater_than_4)/total\n",
        "    p_union = p_even + p_gt4 - len(intersection)/total\n",
        "\n",
        "    return p_even, p_gt4, p_union\n",
        "\n",
        "print(dice_probability())"
      ],
      "metadata": {
        "colab": {
          "base_uri": "https://localhost:8080/"
        },
        "id": "51FvQ956deLp",
        "outputId": "d9af4804-ebfc-4604-cbc0-9dee3f7dbd15"
      },
      "execution_count": null,
      "outputs": [
        {
          "output_type": "stream",
          "name": "stdout",
          "text": [
            "(0.5, 0.3333333333333333, 0.6666666666666666)\n"
          ]
        }
      ]
    },
    {
      "cell_type": "code",
      "source": [
        "def spam_classifier():\n",
        "    p_spam = 0.3\n",
        "    p_free_given_spam = 0.6\n",
        "    p_free_given_not_spam = 0.2\n",
        "    p_not_spam = 1 - p_spam\n",
        "    p_free = (p_free_given_spam * p_spam) + (p_free_given_not_spam * p_not_spam)\n",
        "    p_spam_given_free = (p_free_given_spam * p_spam) / p_free\n",
        "\n",
        "    return round(p_spam_given_free, 4)\n",
        "\n",
        "print(spam_classifier())  #"
      ],
      "metadata": {
        "colab": {
          "base_uri": "https://localhost:8080/"
        },
        "id": "kUUObOwehL2U",
        "outputId": "835276a3-b631-438b-d10a-74a2e9a3a77d"
      },
      "execution_count": null,
      "outputs": [
        {
          "output_type": "stream",
          "name": "stdout",
          "text": [
            "0.5625\n"
          ]
        }
      ]
    },
    {
      "cell_type": "code",
      "source": [
        "def coin_flip_experiment():\n",
        "    import numpy as np\n",
        "    np.random.seed(42)\n",
        "    flips = np.random.binomial(n=1, p=0.5, size=1000)\n",
        "    mean_heads = np.mean(flips)\n",
        "    exactly_500 = np.sum(np.sum(flips) == 500) / 1000\n",
        "    return round(mean_heads, 2), round(exactly_500, 4)\n",
        "\n",
        "print(coin_flip_experiment())"
      ],
      "metadata": {
        "colab": {
          "base_uri": "https://localhost:8080/"
        },
        "id": "OA8VRWNMH8XN",
        "outputId": "b877bc76-04a0-45d9-e012-f9f9b5a5901b"
      },
      "execution_count": 1,
      "outputs": [
        {
          "output_type": "stream",
          "name": "stdout",
          "text": [
            "(np.float64(0.5), np.float64(0.0))\n"
          ]
        }
      ]
    },
    {
      "cell_type": "code",
      "source": [
        "def height_analysis():\n",
        "    from scipy.stats import norm\n",
        "    mu, sigma = 70, 3\n",
        "    p_short = norm.cdf(65, mu, sigma)\n",
        "    p_medium = norm.cdf(72, mu, sigma) - norm.cdf(68, mu, sigma)\n",
        "    percentile_90 = norm.ppf(0.9, mu, sigma)\n",
        "    return round(p_short, 4), round(p_medium, 4), round(percentile_90, 2)\n",
        "\n",
        "print(height_analysis())"
      ],
      "metadata": {
        "colab": {
          "base_uri": "https://localhost:8080/"
        },
        "id": "IPqB0015IgRF",
        "outputId": "62889d61-f818-48df-e5ef-d1ddaf60bf17"
      },
      "execution_count": 2,
      "outputs": [
        {
          "output_type": "stream",
          "name": "stdout",
          "text": [
            "(np.float64(0.0478), np.float64(0.495), np.float64(73.84))\n"
          ]
        }
      ]
    },
    {
      "cell_type": "code",
      "source": [
        "def derivative_at_point():\n",
        "    def f(x): return x**2\n",
        "    x, h = 2, 0.0001\n",
        "    derivative = (f(x+h) - f(x)) / h\n",
        "    return round(derivative, 2)\n",
        "\n",
        "print(derivative_at_point())"
      ],
      "metadata": {
        "colab": {
          "base_uri": "https://localhost:8080/"
        },
        "id": "1w90x2ciIzkk",
        "outputId": "dd747840-ea59-477e-891d-8a2066db95c7"
      },
      "execution_count": 3,
      "outputs": [
        {
          "output_type": "stream",
          "name": "stdout",
          "text": [
            "4.0\n"
          ]
        }
      ]
    },
    {
      "cell_type": "code",
      "source": [
        "def quadratic_gradient():\n",
        "    def f(x): return 3*x**2 + 2*x + 1\n",
        "    def df(x): return 6*x + 2\n",
        "    gradient_at_2 = df(2)\n",
        "    new_x = 2 - 0.1 * gradient_at_2\n",
        "    return gradient_at_2, round(new_x, 2)\n",
        "\n",
        "print(quadratic_gradient())"
      ],
      "metadata": {
        "colab": {
          "base_uri": "https://localhost:8080/"
        },
        "id": "dqB623-5I3am",
        "outputId": "3f3d95c0-6a3b-4011-d7f5-c5bf4d8c0b30"
      },
      "execution_count": 4,
      "outputs": [
        {
          "output_type": "stream",
          "name": "stdout",
          "text": [
            "(14, 0.6)\n"
          ]
        }
      ]
    },
    {
      "cell_type": "code",
      "source": [
        "def partial_derivatives():\n",
        "    def f(x,y): return 3*x**2*y + 2*x*y**3\n",
        "    h = 0.0001\n",
        "    df_dx = (f(1+h,2) - f(1,2)) / h\n",
        "    df_dy = (f(1,2+h) - f(1,2)) / h\n",
        "\n",
        "    return round(df_dx, 2), round(df_dy, 2)\n",
        "\n",
        "print(partial_derivatives())"
      ],
      "metadata": {
        "colab": {
          "base_uri": "https://localhost:8080/"
        },
        "id": "VjwAAFAkJCLM",
        "outputId": "4f3a56c0-3b04-4ea8-df5f-9478ecdb9f9d"
      },
      "execution_count": 5,
      "outputs": [
        {
          "output_type": "stream",
          "name": "stdout",
          "text": [
            "(28.0, 27.0)\n"
          ]
        }
      ]
    },
    {
      "cell_type": "code",
      "source": [
        "def linear_regression_cost():\n",
        "    x = [1,2,3]\n",
        "    y_actual = [2,4,5]\n",
        "    w, b = 1.5, 0.5\n",
        "\n",
        "    squared_errors = []\n",
        "    for xi, yi in zip(x, y_actual):\n",
        "        y_pred = w*xi + b\n",
        "        squared_errors.append((yi - y_pred)**2)\n",
        "\n",
        "    mse = sum(squared_errors)/len(x)\n",
        "    return round(mse, 4)\n",
        "\n",
        "print(linear_regression_cost())"
      ],
      "metadata": {
        "colab": {
          "base_uri": "https://localhost:8080/"
        },
        "id": "BAmOMXrtJMFI",
        "outputId": "ab4e5802-7879-4ac6-fef7-91368d24c9a6"
      },
      "execution_count": 6,
      "outputs": [
        {
          "output_type": "stream",
          "name": "stdout",
          "text": [
            "0.0833\n"
          ]
        }
      ]
    },
    {
      "cell_type": "code",
      "source": [
        "def simple_gradient_descent():\n",
        "\n",
        "    def f(w): return w**2 + 3*w + 4\n",
        "    def df(w): return 2*w + 3\n",
        "\n",
        "    w, eta = 0, 0.1\n",
        "    for _ in range(20):\n",
        "        grad = df(w)\n",
        "        w -= eta * grad\n",
        "\n",
        "    return round(w, 2), round(f(w), 2)\n",
        "\n",
        "print(simple_gradient_descent())"
      ],
      "metadata": {
        "colab": {
          "base_uri": "https://localhost:8080/"
        },
        "id": "jIbRVSKgJZ9e",
        "outputId": "f0f49733-827b-4c95-a328-7da30dbcc2fc"
      },
      "execution_count": 7,
      "outputs": [
        {
          "output_type": "stream",
          "name": "stdout",
          "text": [
            "(-1.48, 1.75)\n"
          ]
        }
      ]
    }
  ]
}